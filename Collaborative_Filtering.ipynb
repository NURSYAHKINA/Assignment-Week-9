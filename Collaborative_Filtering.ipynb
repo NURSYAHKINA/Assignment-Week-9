{
  "cells": [
    {
      "cell_type": "code",
      "execution_count": 1,
      "metadata": {
        "colab": {
          "base_uri": "https://localhost:8080/"
        },
        "id": "7ihM42OKtNAn",
        "outputId": "c3d534b3-0c21-4e72-f5e6-ab6320f7c101"
      },
      "outputs": [
        {
          "output_type": "stream",
          "name": "stdout",
          "text": [
            "openjdk 11.0.18 2023-01-17\n",
            "OpenJDK Runtime Environment (build 11.0.18+10-post-Ubuntu-0ubuntu120.04.1)\n",
            "OpenJDK 64-Bit Server VM (build 11.0.18+10-post-Ubuntu-0ubuntu120.04.1, mixed mode, sharing)\n",
            "Python 3.9.16\n"
          ]
        }
      ],
      "source": [
        "# Check the environment\n",
        "!java --version\n",
        "!python --version"
      ]
    },
    {
      "cell_type": "code",
      "execution_count": 3,
      "metadata": {
        "colab": {
          "base_uri": "https://localhost:8080/"
        },
        "id": "hQemsCzguDHo",
        "outputId": "4f0b97f0-04d4-4261-f736-1a5fb1d1efc9"
      },
      "outputs": [
        {
          "output_type": "stream",
          "name": "stdout",
          "text": [
            "Looking in indexes: https://pypi.org/simple, https://us-python.pkg.dev/colab-wheels/public/simple/\n",
            "Collecting pyspark\n",
            "  Downloading pyspark-3.3.2.tar.gz (281.4 MB)\n",
            "\u001b[2K     \u001b[90m━━━━━━━━━━━━━━━━━━━━━━━━━━━━━━━━━━━━━━━\u001b[0m \u001b[32m281.4/281.4 MB\u001b[0m \u001b[31m5.0 MB/s\u001b[0m eta \u001b[36m0:00:00\u001b[0m\n",
            "\u001b[?25h  Preparing metadata (setup.py) ... \u001b[?25l\u001b[?25hdone\n",
            "Collecting py4j==0.10.9.5\n",
            "  Downloading py4j-0.10.9.5-py2.py3-none-any.whl (199 kB)\n",
            "\u001b[2K     \u001b[90m━━━━━━━━━━━━━━━━━━━━━━━━━━━━━━━━━━━━━━\u001b[0m \u001b[32m199.7/199.7 kB\u001b[0m \u001b[31m22.4 MB/s\u001b[0m eta \u001b[36m0:00:00\u001b[0m\n",
            "\u001b[?25hBuilding wheels for collected packages: pyspark\n",
            "  Building wheel for pyspark (setup.py) ... \u001b[?25l\u001b[?25hdone\n",
            "  Created wheel for pyspark: filename=pyspark-3.3.2-py2.py3-none-any.whl size=281824028 sha256=61298d72f5bffc3d56c735c5604bd82f5ee97167102ef11da8de22e12401c4ae\n",
            "  Stored in directory: /root/.cache/pip/wheels/6c/e3/9b/0525ce8a69478916513509d43693511463c6468db0de237c86\n",
            "Successfully built pyspark\n",
            "Installing collected packages: py4j, pyspark\n",
            "  Attempting uninstall: py4j\n",
            "    Found existing installation: py4j 0.10.9.7\n",
            "    Uninstalling py4j-0.10.9.7:\n",
            "      Successfully uninstalled py4j-0.10.9.7\n",
            "Successfully installed py4j-0.10.9.5 pyspark-3.3.2\n"
          ]
        }
      ],
      "source": [
        "# Download Apache Spark\n",
        "!pip install pyspark"
      ]
    },
    {
      "cell_type": "code",
      "execution_count": 4,
      "metadata": {
        "id": "SZcS4AyRuIGO"
      },
      "outputs": [],
      "source": [
        "# Initiate the Spark Session\n",
        "from pyspark.sql import SparkSession\n",
        "\n",
        "# Create Spark Session/Context\n",
        "spark = SparkSession.builder \\\n",
        "  .master(\"local\") \\\n",
        "  .appName(\"Hello PySpark\") \\\n",
        "  .config (\"spark.some.config.option\", \"some-value\") \\\n",
        "  .getOrCreate()"
      ]
    },
    {
      "cell_type": "code",
      "execution_count": 5,
      "metadata": {
        "colab": {
          "base_uri": "https://localhost:8080/"
        },
        "id": "EqO7WHii7u2O",
        "outputId": "2c626f61-0441-407c-9fd4-975b234324bc"
      },
      "outputs": [
        {
          "output_type": "stream",
          "name": "stdout",
          "text": [
            "<pyspark.sql.session.SparkSession object at 0x7f72c80a79a0>\n"
          ]
        }
      ],
      "source": [
        "# Check spark session\n",
        "print(spark)"
      ]
    },
    {
      "cell_type": "code",
      "execution_count": 6,
      "metadata": {
        "id": "U_SWYaIu78Of"
      },
      "outputs": [],
      "source": [
        "from pyspark.ml.evaluation import RegressionEvaluator\n",
        "from pyspark.ml.recommendation import ALS\n",
        "from pyspark.sql import Row"
      ]
    },
    {
      "cell_type": "code",
      "execution_count": 7,
      "metadata": {
        "colab": {
          "base_uri": "https://localhost:8080/"
        },
        "id": "TosGSwxP8CYX",
        "outputId": "2f2a002d-f780-422b-86fd-c45e4771ea91"
      },
      "outputs": [
        {
          "output_type": "stream",
          "name": "stdout",
          "text": [
            "Looking in indexes: https://pypi.org/simple, https://us-python.pkg.dev/colab-wheels/public/simple/\n",
            "Collecting wget\n",
            "  Downloading wget-3.2.zip (10 kB)\n",
            "  Preparing metadata (setup.py) ... \u001b[?25l\u001b[?25hdone\n",
            "Building wheels for collected packages: wget\n",
            "  Building wheel for wget (setup.py) ... \u001b[?25l\u001b[?25hdone\n",
            "  Created wheel for wget: filename=wget-3.2-py3-none-any.whl size=9676 sha256=56a5eb5e1d047e4efbe2c408b6654913a4dbe89383a597e8bee2fb5ade4c7d50\n",
            "  Stored in directory: /root/.cache/pip/wheels/04/5f/3e/46cc37c5d698415694d83f607f833f83f0149e49b3af9d0f38\n",
            "Successfully built wget\n",
            "Installing collected packages: wget\n",
            "Successfully installed wget-3.2\n"
          ]
        }
      ],
      "source": [
        "!pip install wget"
      ]
    },
    {
      "cell_type": "code",
      "execution_count": 8,
      "metadata": {
        "id": "ObCF-fz28LxF"
      },
      "outputs": [],
      "source": [
        "import wget"
      ]
    },
    {
      "cell_type": "code",
      "execution_count": 9,
      "metadata": {
        "id": "pRQV6sZH8O3u"
      },
      "outputs": [],
      "source": [
        "file = wget.download(\"https://raw.githubusercontent.com/apache/spark/master/data/mllib/als/sample_movielens_ratings.txt\")"
      ]
    },
    {
      "cell_type": "code",
      "execution_count": 10,
      "metadata": {
        "id": "Xeo0AOGLuprY"
      },
      "outputs": [],
      "source": [
        "lines = spark.read.text(\"/content/sample_movielens_ratings.txt\").rdd\n",
        "parts = lines.map(lambda row: row.value.split(\"::\"))\n",
        "ratingsRDD = parts.map(lambda p: Row(userId=int(p[0]), movieId=int(p[1]),\n",
        "                                     rating=float(p[2]), timestamp=int(p[3])))\n",
        "ratings = spark.createDataFrame(ratingsRDD)\n",
        "(training, test) = ratings.randomSplit([0.8, 0.2])\n"
      ]
    },
    {
      "cell_type": "code",
      "execution_count": 19,
      "metadata": {
        "id": "00wr2hxg8hGi"
      },
      "outputs": [],
      "source": [
        "# Build the recommendation model using ALS on the training data\n",
        "# Note we set cold start strategy to 'drop' to ensure we don't get NaN evaluation metrics\n",
        "als = ALS(maxIter=18, regParam=1.0, userCol=\"userId\", itemCol=\"movieId\", ratingCol=\"rating\",\n",
        "          coldStartStrategy=\"drop\")\n",
        "model = als.fit(training)\n"
      ]
    },
    {
      "cell_type": "code",
      "execution_count": 20,
      "metadata": {
        "colab": {
          "base_uri": "https://localhost:8080/"
        },
        "id": "MpbV5gA38zLK",
        "outputId": "591333e7-20ae-4fbb-ff7c-37119409ac50"
      },
      "outputs": [
        {
          "output_type": "stream",
          "name": "stdout",
          "text": [
            "Root-mean-square error = 1.6507297094819995\n"
          ]
        }
      ],
      "source": [
        "# Evaluate the model by computing the RMSE on the test data\n",
        "predictions = model.transform(test)\n",
        "evaluator = RegressionEvaluator(metricName=\"rmse\", labelCol=\"rating\",\n",
        "                                predictionCol=\"prediction\")\n",
        "rmse = evaluator.evaluate(predictions)\n",
        "print(\"Root-mean-square error = \" + str(rmse))"
      ]
    },
    {
      "cell_type": "code",
      "execution_count": null,
      "metadata": {
        "colab": {
          "base_uri": "https://localhost:8080/"
        },
        "id": "himhTFQl87AW",
        "outputId": "55f06bca-a77b-4d31-af2e-e3e9c3097cc9"
      },
      "outputs": [
        {
          "name": "stdout",
          "output_type": "stream",
          "text": [
            "+------+--------------------+\n",
            "|userId|     recommendations|\n",
            "+------+--------------------+\n",
            "|    20|[{22, 3.687074}, ...|\n",
            "|    10|[{92, 3.3655536},...|\n",
            "|     0|[{92, 3.2275326},...|\n",
            "|     1|[{62, 3.2108698},...|\n",
            "|    21|[{29, 4.6235642},...|\n",
            "|    11|[{32, 4.8050656},...|\n",
            "|    12|[{46, 4.867862}, ...|\n",
            "|    22|[{88, 4.2667727},...|\n",
            "|     2|[{93, 4.458805}, ...|\n",
            "|    13|[{93, 3.1507952},...|\n",
            "|     3|[{51, 3.9332511},...|\n",
            "|    23|[{32, 4.9350796},...|\n",
            "|     4|[{29, 3.5907602},...|\n",
            "|    24|[{69, 4.4119983},...|\n",
            "|    14|[{52, 4.4537644},...|\n",
            "|     5|[{55, 3.9585}, {4...|\n",
            "|    15|[{46, 4.1165385},...|\n",
            "|    25|[{47, 2.8637855},...|\n",
            "|    26|[{88, 4.7184362},...|\n",
            "|     6|[{25, 3.8741229},...|\n",
            "+------+--------------------+\n",
            "only showing top 20 rows\n",
            "\n"
          ]
        }
      ],
      "source": [
        "# Generate top 10 movie recommendations for each user\n",
        "userRecs = model.recommendForAllUsers(10).show()"
      ]
    },
    {
      "cell_type": "code",
      "execution_count": null,
      "metadata": {
        "colab": {
          "base_uri": "https://localhost:8080/"
        },
        "id": "fnaDSTtN9D0O",
        "outputId": "4dd55c8f-64ea-4ddc-da23-7e9b1a4ad545"
      },
      "outputs": [
        {
          "name": "stdout",
          "output_type": "stream",
          "text": [
            "+-------+--------------------+\n",
            "|movieId|     recommendations|\n",
            "+-------+--------------------+\n",
            "|     20|[{17, 3.8929477},...|\n",
            "|     40|[{2, 3.5130334}, ...|\n",
            "|     10|[{12, 3.4377112},...|\n",
            "|     50|[{23, 3.891326}, ...|\n",
            "|     80|[{26, 3.395955}, ...|\n",
            "|     70|[{21, 3.5905616},...|\n",
            "|     60|[{21, 2.7525523},...|\n",
            "|     90|[{16, 4.52701}, {...|\n",
            "|     30|[{26, 4.5177093},...|\n",
            "|      0|[{28, 2.4868083},...|\n",
            "|     31|[{12, 2.7964075},...|\n",
            "|     81|[{28, 3.963631}, ...|\n",
            "|     91|[{12, 2.6666212},...|\n",
            "|      1|[{12, 2.700808}, ...|\n",
            "|     41|[{21, 3.6565263},...|\n",
            "|     61|[{6, 1.9976146}, ...|\n",
            "|     51|[{26, 4.6777315},...|\n",
            "|     21|[{26, 2.623012}, ...|\n",
            "|     11|[{18, 3.3091846},...|\n",
            "|     71|[{25, 2.8062804},...|\n",
            "+-------+--------------------+\n",
            "only showing top 20 rows\n",
            "\n"
          ]
        }
      ],
      "source": [
        "# Generate top 10 user recommendations for each movie\n",
        "movieRecs = model.recommendForAllItems(10).show()"
      ]
    },
    {
      "cell_type": "code",
      "execution_count": null,
      "metadata": {
        "colab": {
          "base_uri": "https://localhost:8080/"
        },
        "id": "CMsa6gUy9Drh",
        "outputId": "317626ab-c296-4a82-be7a-15965c93d62a"
      },
      "outputs": [
        {
          "name": "stdout",
          "output_type": "stream",
          "text": [
            "+------+--------------------+\n",
            "|userId|     recommendations|\n",
            "+------+--------------------+\n",
            "|    26|[{88, 4.7184362},...|\n",
            "|    19|[{90, 3.1640222},...|\n",
            "|    29|[{46, 4.1753683},...|\n",
            "+------+--------------------+\n",
            "\n"
          ]
        }
      ],
      "source": [
        "# Generate top 10 movie recommendations for a specified set of users\n",
        "users = ratings.select(als.getUserCol()).distinct().limit(3)\n",
        "userSubsetRecs = model.recommendForUserSubset(users, 10).show()"
      ]
    },
    {
      "cell_type": "code",
      "execution_count": null,
      "metadata": {
        "colab": {
          "base_uri": "https://localhost:8080/"
        },
        "id": "Wh4ldY5k89zd",
        "outputId": "4d0decd5-d3e5-4fb8-83fa-ddd64fda420a"
      },
      "outputs": [
        {
          "name": "stdout",
          "output_type": "stream",
          "text": [
            "+-------+--------------------+\n",
            "|movieId|     recommendations|\n",
            "+-------+--------------------+\n",
            "|     65|[{23, 4.1052895},...|\n",
            "|     26|[{15, 2.23296}, {...|\n",
            "|     29|[{21, 4.6235642},...|\n",
            "+-------+--------------------+\n",
            "\n"
          ]
        }
      ],
      "source": [
        "# Generate top 10 user recommendations for a specified set of movies\n",
        "movies = ratings.select(als.getItemCol()).distinct().limit(3)\n",
        "movieSubSetRecs = model.recommendForItemSubset(movies, 10).show()"
      ]
    },
    {
      "cell_type": "markdown",
      "metadata": {
        "id": "Gf6bIyFk9404"
      },
      "source": [
        "In a nutshell, as per experimental lower values of RMSE indicate better accuracy of the regression model.\n",
        "\n",
        "\n",
        "maxIter=5, regParam=0.1 the RMSE is = 1.0536207567527969\n",
        "\n",
        "maxIter=5, regParam=0.5 the RMSE is = 1.3587065977248067\n",
        "\n",
        "maxIter=10, regParam=0.1 the RMSE is = 1.0738216177715993\n",
        "\n",
        "maxIter=10, regParam=0.5 the RMSE is = 1.357096647241042\n",
        "\n",
        "maxIter=18, regParam=1.0 the RMSE is = 1.6507297094819995\n",
        "\n",
        "The model that performs better according to the RMSE is the model with maxIter=5, regParam=0.1."
      ]
    }
  ],
  "metadata": {
    "colab": {
      "provenance": []
    },
    "kernelspec": {
      "display_name": "Python 3",
      "name": "python3"
    },
    "language_info": {
      "name": "python"
    }
  },
  "nbformat": 4,
  "nbformat_minor": 0
}